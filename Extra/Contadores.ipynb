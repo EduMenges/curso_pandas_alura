{
 "cells": [
  {
   "cell_type": "code",
   "execution_count": 2,
   "id": "cb5e651e",
   "metadata": {},
   "outputs": [
    {
     "data": {
      "text/plain": [
       "0     i\n",
       "1     a\n",
       "2     q\n",
       "3     h\n",
       "4     g\n",
       "5     i\n",
       "6     a\n",
       "7     o\n",
       "8     u\n",
       "9     n\n",
       "10    v\n",
       "11    i\n",
       "12    d\n",
       "13    j\n",
       "14    k\n",
       "15    n\n",
       "16    f\n",
       "17    c\n",
       "18    v\n",
       "19    i\n",
       "20    k\n",
       "21    a\n",
       "22    n\n",
       "23    f\n",
       "24    u\n",
       "25    i\n",
       "26    w\n",
       "27    n\n",
       "28    d\n",
       "29    0\n",
       "30    9\n",
       "31    2\n",
       "32    q\n",
       "33    i\n",
       "34    a\n",
       "dtype: object"
      ]
     },
     "execution_count": 2,
     "metadata": {},
     "output_type": "execute_result"
    }
   ],
   "source": [
    "import pandas as pd\n",
    "s = pd.Series(list(\"iaqhgiaounvidjknfcvikanfuiwnd092qia\"))\n",
    "s"
   ]
  },
  {
   "cell_type": "markdown",
   "id": "059b6936",
   "metadata": {},
   "source": [
    "# Para ver entradas únicas"
   ]
  },
  {
   "cell_type": "code",
   "execution_count": 3,
   "id": "6b80da06",
   "metadata": {},
   "outputs": [
    {
     "data": {
      "text/plain": [
       "array(['i', 'a', 'q', 'h', 'g', 'o', 'u', 'n', 'v', 'd', 'j', 'k', 'f',\n",
       "       'c', 'w', '0', '9', '2'], dtype=object)"
      ]
     },
     "execution_count": 3,
     "metadata": {},
     "output_type": "execute_result"
    }
   ],
   "source": [
    "s.unique()"
   ]
  },
  {
   "cell_type": "markdown",
   "id": "3e20d4bf",
   "metadata": {},
   "source": [
    "# Para ver a distribuição de frequências"
   ]
  },
  {
   "cell_type": "code",
   "execution_count": 4,
   "id": "2549db05",
   "metadata": {},
   "outputs": [
    {
     "data": {
      "text/plain": [
       "i    6\n",
       "n    4\n",
       "a    4\n",
       "f    2\n",
       "k    2\n",
       "v    2\n",
       "d    2\n",
       "u    2\n",
       "q    2\n",
       "o    1\n",
       "g    1\n",
       "j    1\n",
       "h    1\n",
       "c    1\n",
       "w    1\n",
       "0    1\n",
       "9    1\n",
       "2    1\n",
       "dtype: int64"
      ]
     },
     "execution_count": 4,
     "metadata": {},
     "output_type": "execute_result"
    }
   ],
   "source": [
    "s.value_counts()"
   ]
  },
  {
   "cell_type": "markdown",
   "id": "a5a1dffc",
   "metadata": {},
   "source": [
    "# Vendo a distribuição de jogadas de cara/coroa"
   ]
  },
  {
   "cell_type": "code",
   "execution_count": 5,
   "id": "34ac990a",
   "metadata": {},
   "outputs": [],
   "source": [
    "m1 = 'CCcCCccCCCccCcCccCcCcCCCcCCcccCCcCcCcCcccCCcCcccCc'\n",
    "m2 = 'CCCCCccCccCcCCCCccCccccCccCccCCcCccCcCcCCcCccCccCc'\n",
    "m3 = 'CccCCccCcCCCCCCCCCCcccCccCCCCCCccCCCcccCCCcCCcccCC'\n",
    "m4 = 'cCCccCCccCCccCCccccCcCcCcCcCcCcCCCCccccCCCcCCcCCCC'\n",
    "m5 = 'CCCcCcCcCcCCCcCCcCcCCccCcCCcccCccCCcCcCcCcCcccccCc'"
   ]
  },
  {
   "cell_type": "code",
   "execution_count": 6,
   "id": "e692d69b",
   "metadata": {},
   "outputs": [],
   "source": [
    "eventos = {\n",
    "    \"m1\": list(m1),\n",
    "    \"m2\": list(m2),\n",
    "    \"m3\": list(m3),\n",
    "    \"m4\": list(m4),\n",
    "    \"m5\": list(m5)\n",
    "}"
   ]
  },
  {
   "cell_type": "code",
   "execution_count": 8,
   "id": "69d2e06a",
   "metadata": {},
   "outputs": [
    {
     "data": {
      "text/html": [
       "<div>\n",
       "<style scoped>\n",
       "    .dataframe tbody tr th:only-of-type {\n",
       "        vertical-align: middle;\n",
       "    }\n",
       "\n",
       "    .dataframe tbody tr th {\n",
       "        vertical-align: top;\n",
       "    }\n",
       "\n",
       "    .dataframe thead th {\n",
       "        text-align: right;\n",
       "    }\n",
       "</style>\n",
       "<table border=\"1\" class=\"dataframe\">\n",
       "  <thead>\n",
       "    <tr style=\"text-align: right;\">\n",
       "      <th></th>\n",
       "      <th>m1</th>\n",
       "      <th>m2</th>\n",
       "      <th>m3</th>\n",
       "      <th>m4</th>\n",
       "      <th>m5</th>\n",
       "    </tr>\n",
       "  </thead>\n",
       "  <tbody>\n",
       "    <tr>\n",
       "      <th>0</th>\n",
       "      <td>C</td>\n",
       "      <td>C</td>\n",
       "      <td>C</td>\n",
       "      <td>c</td>\n",
       "      <td>C</td>\n",
       "    </tr>\n",
       "    <tr>\n",
       "      <th>1</th>\n",
       "      <td>C</td>\n",
       "      <td>C</td>\n",
       "      <td>c</td>\n",
       "      <td>C</td>\n",
       "      <td>C</td>\n",
       "    </tr>\n",
       "    <tr>\n",
       "      <th>2</th>\n",
       "      <td>c</td>\n",
       "      <td>C</td>\n",
       "      <td>c</td>\n",
       "      <td>C</td>\n",
       "      <td>C</td>\n",
       "    </tr>\n",
       "    <tr>\n",
       "      <th>3</th>\n",
       "      <td>C</td>\n",
       "      <td>C</td>\n",
       "      <td>C</td>\n",
       "      <td>c</td>\n",
       "      <td>c</td>\n",
       "    </tr>\n",
       "    <tr>\n",
       "      <th>4</th>\n",
       "      <td>C</td>\n",
       "      <td>C</td>\n",
       "      <td>C</td>\n",
       "      <td>c</td>\n",
       "      <td>C</td>\n",
       "    </tr>\n",
       "  </tbody>\n",
       "</table>\n",
       "</div>"
      ],
      "text/plain": [
       "  m1 m2 m3 m4 m5\n",
       "0  C  C  C  c  C\n",
       "1  C  C  c  C  C\n",
       "2  c  C  c  C  C\n",
       "3  C  C  C  c  c\n",
       "4  C  C  C  c  C"
      ]
     },
     "execution_count": 8,
     "metadata": {},
     "output_type": "execute_result"
    }
   ],
   "source": [
    "jogadas = pd.DataFrame(eventos)\n",
    "jogadas.head()"
   ]
  },
  {
   "cell_type": "code",
   "execution_count": 12,
   "id": "3096aa8d",
   "metadata": {},
   "outputs": [
    {
     "data": {
      "text/plain": [
       "m1\n",
       "C    25\n",
       "c    25\n",
       "dtype: int64"
      ]
     },
     "execution_count": 12,
     "metadata": {},
     "output_type": "execute_result"
    }
   ],
   "source": [
    "# É assim que obtenho as frequências por coluna!\n",
    "jogadas.value_counts(subset=\"m1\")"
   ]
  },
  {
   "cell_type": "code",
   "execution_count": 14,
   "id": "69ba82f0",
   "metadata": {},
   "outputs": [
    {
     "data": {
      "text/html": [
       "<div>\n",
       "<style scoped>\n",
       "    .dataframe tbody tr th:only-of-type {\n",
       "        vertical-align: middle;\n",
       "    }\n",
       "\n",
       "    .dataframe tbody tr th {\n",
       "        vertical-align: top;\n",
       "    }\n",
       "\n",
       "    .dataframe thead th {\n",
       "        text-align: right;\n",
       "    }\n",
       "</style>\n",
       "<table border=\"1\" class=\"dataframe\">\n",
       "  <thead>\n",
       "    <tr style=\"text-align: right;\">\n",
       "      <th></th>\n",
       "      <th>Faces</th>\n",
       "    </tr>\n",
       "  </thead>\n",
       "  <tbody>\n",
       "    <tr>\n",
       "      <th>C</th>\n",
       "      <td>Coroa</td>\n",
       "    </tr>\n",
       "    <tr>\n",
       "      <th>c</th>\n",
       "      <td>Cara</td>\n",
       "    </tr>\n",
       "  </tbody>\n",
       "</table>\n",
       "</div>"
      ],
      "text/plain": [
       "   Faces\n",
       "C  Coroa\n",
       "c   Cara"
      ]
     },
     "execution_count": 14,
     "metadata": {},
     "output_type": "execute_result"
    }
   ],
   "source": [
    "frequencias = pd.DataFrame({\"Faces\": [\"Coroa\", \"Cara\"]}, index=(\"C\", \"c\"))\n",
    "frequencias"
   ]
  },
  {
   "cell_type": "code",
   "execution_count": 16,
   "id": "dcb363e5",
   "metadata": {},
   "outputs": [
    {
     "data": {
      "text/html": [
       "<div>\n",
       "<style scoped>\n",
       "    .dataframe tbody tr th:only-of-type {\n",
       "        vertical-align: middle;\n",
       "    }\n",
       "\n",
       "    .dataframe tbody tr th {\n",
       "        vertical-align: top;\n",
       "    }\n",
       "\n",
       "    .dataframe thead th {\n",
       "        text-align: right;\n",
       "    }\n",
       "</style>\n",
       "<table border=\"1\" class=\"dataframe\">\n",
       "  <thead>\n",
       "    <tr style=\"text-align: right;\">\n",
       "      <th></th>\n",
       "      <th>Faces</th>\n",
       "      <th>m1</th>\n",
       "      <th>m2</th>\n",
       "      <th>m3</th>\n",
       "      <th>m4</th>\n",
       "      <th>m5</th>\n",
       "    </tr>\n",
       "  </thead>\n",
       "  <tbody>\n",
       "    <tr>\n",
       "      <th>C</th>\n",
       "      <td>Coroa</td>\n",
       "      <td>25</td>\n",
       "      <td>24</td>\n",
       "      <td>31</td>\n",
       "      <td>27</td>\n",
       "      <td>25</td>\n",
       "    </tr>\n",
       "    <tr>\n",
       "      <th>c</th>\n",
       "      <td>Cara</td>\n",
       "      <td>25</td>\n",
       "      <td>26</td>\n",
       "      <td>19</td>\n",
       "      <td>23</td>\n",
       "      <td>25</td>\n",
       "    </tr>\n",
       "  </tbody>\n",
       "</table>\n",
       "</div>"
      ],
      "text/plain": [
       "   Faces  m1  m2  m3  m4  m5\n",
       "C  Coroa  25  24  31  27  25\n",
       "c   Cara  25  26  19  23  25"
      ]
     },
     "execution_count": 16,
     "metadata": {},
     "output_type": "execute_result"
    }
   ],
   "source": [
    "for moeda in jogadas:\n",
    "    frequencias[moeda] = jogadas.value_counts(subset=moeda)\n",
    "frequencias"
   ]
  },
  {
   "cell_type": "code",
   "execution_count": null,
   "id": "47a6407a",
   "metadata": {},
   "outputs": [],
   "source": []
  }
 ],
 "metadata": {
  "kernelspec": {
   "display_name": "Python 3 (ipykernel)",
   "language": "python",
   "name": "python3"
  },
  "language_info": {
   "codemirror_mode": {
    "name": "ipython",
    "version": 3
   },
   "file_extension": ".py",
   "mimetype": "text/x-python",
   "name": "python",
   "nbconvert_exporter": "python",
   "pygments_lexer": "ipython3",
   "version": "3.10.4"
  }
 },
 "nbformat": 4,
 "nbformat_minor": 5
}
