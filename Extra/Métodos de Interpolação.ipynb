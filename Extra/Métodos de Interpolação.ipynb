{
 "cells": [
  {
   "cell_type": "code",
   "execution_count": 1,
   "id": "cb933a2a",
   "metadata": {},
   "outputs": [],
   "source": [
    "import pandas as pd"
   ]
  },
  {
   "cell_type": "code",
   "execution_count": 2,
   "id": "3e79df26",
   "metadata": {},
   "outputs": [],
   "source": [
    "data = [0.5, None, None, 0.52, 0.54, None, None, 0.59, 0.6, None, 0.7]\n",
    "s = pd.Series(data)"
   ]
  },
  {
   "cell_type": "markdown",
   "id": "e9e5841e",
   "metadata": {},
   "source": [
    "## Método padrão"
   ]
  },
  {
   "cell_type": "code",
   "execution_count": 4,
   "id": "d13e39f9",
   "metadata": {},
   "outputs": [
    {
     "data": {
      "text/plain": [
       "0     0.50\n",
       "1     0.00\n",
       "2     0.00\n",
       "3     0.52\n",
       "4     0.54\n",
       "5     0.00\n",
       "6     0.00\n",
       "7     0.59\n",
       "8     0.60\n",
       "9     0.00\n",
       "10    0.70\n",
       "dtype: float64"
      ]
     },
     "execution_count": 4,
     "metadata": {},
     "output_type": "execute_result"
    }
   ],
   "source": [
    "s.fillna(0.0)"
   ]
  },
  {
   "cell_type": "markdown",
   "id": "b85b6d33",
   "metadata": {},
   "source": [
    "## Preencher com valores próximos"
   ]
  },
  {
   "cell_type": "code",
   "execution_count": 6,
   "id": "075fbc85",
   "metadata": {},
   "outputs": [
    {
     "data": {
      "text/plain": [
       "0     0.50\n",
       "1     0.50\n",
       "2     0.50\n",
       "3     0.52\n",
       "4     0.54\n",
       "5     0.54\n",
       "6     0.54\n",
       "7     0.59\n",
       "8     0.60\n",
       "9     0.60\n",
       "10    0.70\n",
       "dtype: float64"
      ]
     },
     "execution_count": 6,
     "metadata": {},
     "output_type": "execute_result"
    }
   ],
   "source": [
    "s.fillna(method=\"ffill\")"
   ]
  },
  {
   "cell_type": "code",
   "execution_count": 7,
   "id": "222e4d5a",
   "metadata": {},
   "outputs": [
    {
     "data": {
      "text/plain": [
       "0     0.50\n",
       "1     0.52\n",
       "2     0.52\n",
       "3     0.52\n",
       "4     0.54\n",
       "5     0.59\n",
       "6     0.59\n",
       "7     0.59\n",
       "8     0.60\n",
       "9     0.70\n",
       "10    0.70\n",
       "dtype: float64"
      ]
     },
     "execution_count": 7,
     "metadata": {},
     "output_type": "execute_result"
    }
   ],
   "source": [
    "s.fillna(method=\"bfill\")"
   ]
  },
  {
   "cell_type": "markdown",
   "id": "19ae652b",
   "metadata": {},
   "source": [
    "## Fazendo um sanduíche de preenchimento"
   ]
  },
  {
   "cell_type": "code",
   "execution_count": 8,
   "id": "1cf3e74a",
   "metadata": {},
   "outputs": [
    {
     "data": {
      "text/plain": [
       "0     0.50\n",
       "1     0.50\n",
       "2     0.52\n",
       "3     0.52\n",
       "4     0.54\n",
       "5     0.54\n",
       "6     0.59\n",
       "7     0.59\n",
       "8     0.60\n",
       "9     0.60\n",
       "10    0.70\n",
       "dtype: float64"
      ]
     },
     "execution_count": 8,
     "metadata": {},
     "output_type": "execute_result"
    }
   ],
   "source": [
    "s.fillna(method=\"ffill\", limit=1).fillna(method=\"bfill\", limit=1)"
   ]
  },
  {
   "cell_type": "code",
   "execution_count": null,
   "id": "d48a101e",
   "metadata": {},
   "outputs": [],
   "source": []
  }
 ],
 "metadata": {
  "kernelspec": {
   "display_name": "Python 3 (ipykernel)",
   "language": "python",
   "name": "python3"
  },
  "language_info": {
   "codemirror_mode": {
    "name": "ipython",
    "version": 3
   },
   "file_extension": ".py",
   "mimetype": "text/x-python",
   "name": "python",
   "nbconvert_exporter": "python",
   "pygments_lexer": "ipython3",
   "version": "3.10.4"
  }
 },
 "nbformat": 4,
 "nbformat_minor": 5
}
